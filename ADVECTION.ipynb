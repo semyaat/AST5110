{
 "cells": [
  {
   "cell_type": "code",
   "execution_count": null,
   "metadata": {},
   "outputs": [],
   "source": [
    "## Import relevant libraries ## \n",
    "%matplotlib inline\n",
    "import numpy as np\n",
    "import matplotlib.pyplot as plt \n",
    "from nm_lib import nm_lib as nm\n",
    "\n",
    "# from IPython.display import clear_output\n",
    "# from IPython.display import Video\n",
    "\n",
    "# plt.style.use('dark_background')\n",
    "plt.style.use('default')"
   ]
  },
  {
   "cell_type": "code",
   "execution_count": null,
   "metadata": {},
   "outputs": [],
   "source": [
    "# M = 10\n",
    "fps = 3\n",
    "# figstr = run + '_'+ str(nt) + '_' + str (num) + '.mp4'\n",
    "# Video(figstr,width=width)"
   ]
  },
  {
   "cell_type": "markdown",
   "metadata": {},
   "source": [
    "## Adding a Gaussian perturbation"
   ]
  },
  {
   "cell_type": "code",
   "execution_count": null,
   "metadata": {},
   "outputs": [],
   "source": [
    "## Initialize constant variables ##\n",
    "\n",
    "gamma = 5/3\n",
    "mH = 1 \n",
    "kB = 1\n",
    "\n",
    "# Initialize the grid \n",
    "xi = 0\n",
    "xf = 4\n",
    "x_half = xf/2\n",
    "numps = 512\n",
    "dx = (xf-xi) / (numps) \n",
    "xx = np.arange(xi, xf, dx)\n",
    "\n",
    "nt = 1000\n",
    "\n",
    "def gauss(xx, a, x0, b):\n",
    "    return a*np.exp(-(xx-x0)**2/(b**2)) + 1"
   ]
  },
  {
   "cell_type": "markdown",
   "metadata": {},
   "source": [
    "### HD PDE model"
   ]
  },
  {
   "cell_type": "code",
   "execution_count": null,
   "metadata": {},
   "outputs": [],
   "source": [
    "## Set the initial conditions ##\n",
    "rho0 = gauss(xx, a=0.05, x0=x_half, b=0.1)\n",
    "u0 = 0.0001*np.ones(numps)\n",
    "Tg0 = 1*np.ones(numps)\n",
    "Pg0 = rho0*kB*Tg0 / mH\n",
    "e0 = (rho0*kB*Tg0) / (mH*(gamma-1))\n",
    "\n",
    "# nm.plot_hd_init(xx, rho0, u0, Tg0, Pg0, e0, source_function=np.zeros(numps))\n",
    "\n",
    "nt = 1000*2\n",
    "t, rhot, pxt, et = nm.evol_hd_sts(xx, rho0, u0, Tg0, gamma=gamma, kappa=0, kB=kB, mH=mH, nt=nt,\n",
    "                   cfl_cut=0.05, ddx = lambda x,y: nm.deriv_cent(x, y),\n",
    "                   bnd_limits=[1,1], nu=0.1)\n",
    "\n",
    "u  = pxt / rhot                    # fluid velocity\n",
    "Tg = et*mH*(gamma - 1) / (rhot*kB) # gas temperature\n",
    "Pg = rhot*kB*Tg / mH               # gas pressure\n",
    "\n",
    "## Plot the results ##\n",
    "run = 'gaussian_density_pert_no_src' # run\n",
    "title = 'Gaussian density perturbation (no sources)' \n",
    "\n",
    "nm.plot_hd_evolv(xx, t, nt=nt, rhot=rhot, u=u, Tg=Tg, Pg=Pg, et=et, S=0, M=10, run=run, fps=fps, title=title)"
   ]
  },
  {
   "cell_type": "markdown",
   "metadata": {},
   "source": [
    "### HD PDE Model with thermal conduction"
   ]
  },
  {
   "cell_type": "markdown",
   "metadata": {},
   "source": [
    "Thermal conduction has to be really really small. \n",
    "\n",
    "Overplot with and without thermal conduction. "
   ]
  },
  {
   "cell_type": "code",
   "execution_count": null,
   "metadata": {},
   "outputs": [],
   "source": [
    "## Set the initial conditions ##\n",
    "rho0 = gauss(xx, a=-0.05, x0=x_half, b=0.1)\n",
    "Tg0 = gauss(xx, a=0.05, x0=x_half, b=0.1)\n",
    "# Tg0 = 1*np.ones(numps)\n",
    "# rho0 = 1*np.ones(numps)\n",
    "# Tg0 = gauss(xx, a=0.05, x0=x_half, b=0.1)\n",
    "\n",
    "u0 = 0.0001*np.ones(numps)\n",
    "Pg0 = 1#rho0*kB*Tg0 / mH\n",
    "Tg0 = Pg0/ rho0 / kB*mH\n",
    "e0 = (rho0*kB*Tg0) / (mH*(gamma-1))\n",
    "\n",
    "# nm.plot_hd_init(xx, rho0, u0, Tg0, Pg0, e0, source_function=np.zeros(numps))\n",
    "\n",
    "nt = 1000*2\n",
    "kappa = 0.01\n",
    "t, rhot, pxt, et = nm.evol_hd_sts(xx, rho0, u0, Tg0, \n",
    "                    gamma=gamma, kappa=kappa, kB=kB, mH=mH, nt=nt,\n",
    "                   cfl_cut=0.05, ddx = lambda x,y: nm.deriv_cent(x, y),\n",
    "                   bnd_limits=[1,1], nu=0.1)\n",
    "\n",
    "u  = pxt / rhot                    # fluid velocity\n",
    "Tg = et*mH*(gamma - 1) / (rhot*kB) # gas temperature\n",
    "Pg = rhot*kB*Tg / mH               # gas pressure\n",
    "\n",
    "## Plot the results ##\n",
    "# run = f'gaussian_density_pert_kappa_01' # run\n",
    "run = 'gaussian_temp_pert_kappa0_01' # run\n",
    "title = f'Gaussian perturbation (Kappa = {kappa})' \n",
    "\n",
    "nm.plot_hd_evolv(xx, t, nt=nt, rhot=rhot, u=u, Tg=Tg, Pg=Pg, et=et, S=0, M=10, run=run, fps=fps, title=title)"
   ]
  },
  {
   "cell_type": "code",
   "execution_count": null,
   "metadata": {},
   "outputs": [],
   "source": [
    "## Set the initial conditions ##\n",
    "rho0 = gauss(xx, a=-0.05, x0=x_half, b=0.1)\n",
    "Tg0 = gauss(xx, a=0.05, x0=x_half, b=0.1)\n",
    "# Tg0 = 1*np.ones(numps)\n",
    "# rho0 = 1*np.ones(numps)\n",
    "# Tg0 = gauss(xx, a=0.05, x0=x_half, b=0.1)\n",
    "\n",
    "u0 = 0.0001*np.ones(numps)\n",
    "Pg0 = 1#rho0*kB*Tg0 / mH\n",
    "Tg0 = Pg0/ rho0 / kB*mH\n",
    "e0 = (rho0*kB*Tg0) / (mH*(gamma-1))\n",
    "\n",
    "# nm.plot_hd_init(xx, rho0, u0, Tg0, Pg0, e0, source_function=np.zeros(numps))\n",
    "\n",
    "nt = 1000*2\n",
    "kappa = 0.1\n",
    "t, rhot, pxt, et = nm.evol_hd_sts(xx, rho0, u0, Tg0, \n",
    "                    gamma=gamma, kappa=kappa, kB=kB, mH=mH, nt=nt,\n",
    "                   cfl_cut=0.05, ddx = lambda x,y: nm.deriv_cent(x, y),\n",
    "                   bnd_limits=[1,1], nu=0.1)\n",
    "\n",
    "u  = pxt / rhot                    # fluid velocity\n",
    "Tg = et*mH*(gamma - 1) / (rhot*kB) # gas temperature\n",
    "Pg = rhot*kB*Tg / mH               # gas pressure\n",
    "\n",
    "## Plot the results ##\n",
    "# run = f'gaussian_density_pert_kappa_01' # run\n",
    "run = 'gaussian_temp_pert_kappa0_1' # run\n",
    "title = f'Gaussian perturbation (Kappa = {kappa})' \n",
    "\n",
    "nm.plot_hd_evolv(xx, t, nt=nt, rhot=rhot, u=u, Tg=Tg, Pg=Pg, et=et, S=0, M=10, run=run, fps=fps, title=title)"
   ]
  },
  {
   "cell_type": "code",
   "execution_count": null,
   "metadata": {},
   "outputs": [],
   "source": [
    "## Set the initial conditions ##\n",
    "rho0 = gauss(xx, a=-0.05, x0=x_half, b=0.1)\n",
    "Tg0 = gauss(xx, a=0.05, x0=x_half, b=0.1)\n",
    "# Tg0 = 1*np.ones(numps)\n",
    "# rho0 = 1*np.ones(numps)\n",
    "# Tg0 = gauss(xx, a=0.05, x0=x_half, b=0.1)\n",
    "\n",
    "u0 = 0.0001*np.ones(numps)\n",
    "Pg0 = 1#rho0*kB*Tg0 / mH\n",
    "Tg0 = Pg0/ rho0 / kB*mH\n",
    "e0 = (rho0*kB*Tg0) / (mH*(gamma-1))\n",
    "\n",
    "# nm.plot_hd_init(xx, rho0, u0, Tg0, Pg0, e0, source_function=np.zeros(numps))\n",
    "\n",
    "nt = 1000*2\n",
    "kappa = 1\n",
    "t, rhot, pxt, et = nm.evol_hd_sts(xx, rho0, u0, Tg0, \n",
    "                    gamma=gamma, kappa=kappa, kB=kB, mH=mH, nt=nt,\n",
    "                   cfl_cut=0.05, ddx = lambda x,y: nm.deriv_cent(x, y),\n",
    "                   bnd_limits=[1,1], nu=0.1)\n",
    "\n",
    "u  = pxt / rhot                    # fluid velocity\n",
    "Tg = et*mH*(gamma - 1) / (rhot*kB) # gas temperature\n",
    "Pg = rhot*kB*Tg / mH               # gas pressure\n",
    "\n",
    "## Plot the results ##\n",
    "# run = f'gaussian_density_pert_kappa_01' # run\n",
    "run = 'gaussian_temp_pert_kappa1' # run\n",
    "title = f'Gaussian perturbation (Kappa = {kappa})' \n",
    "\n",
    "nm.plot_hd_evolv(xx, t, nt=nt, rhot=rhot, u=u, Tg=Tg, Pg=Pg, et=et, S=0, M=10, run=run, fps=fps, title=title)"
   ]
  },
  {
   "cell_type": "markdown",
   "metadata": {},
   "source": [
    "## HD PDE Model with thermal conductoin and ad-hoc source term\n",
    "\n",
    "\n",
    "Tempereature and energy (flows, velocity changing)\n",
    "\n",
    "Heating -> Pressure pertubation -> Sound waves \n",
    "\n",
    "\n",
    "Try a temperature pertubation \n",
    "\n",
    "gaussian that spreads out and pressure pertubations maybe"
   ]
  },
  {
   "cell_type": "code",
   "execution_count": null,
   "metadata": {},
   "outputs": [],
   "source": [
    "rho0 = 1 * np.ones(numps)# g/cm^3 -> kg/m^3 -> M kg/m^3   e-13\n",
    "Tg0  = 1 * np.ones(numps) # MK  **(5/2)\n",
    "# initialize the velocity to zero\n",
    "u0 = 0.0001*np.ones(numps)\n",
    "\n",
    "# initialize the pressure and internal energy\n",
    "Pg0 = rho0*kB*Tg0 / mH\n",
    "e0 = (rho0 * kB * Tg0) / (mH*(gamma-1))\n",
    "\n",
    "## Source Function ##\n",
    "A=0.5; x0=xf/2.0; t0=0\n",
    "\n",
    "Ws=0.2  # width of the spatial gaussian  (tens of km -> a few Mm)\n",
    "Wt=0.1   # width of the temporal gaussian (fraction of seconds to 100s)\n",
    "\n",
    "S = lambda x,t: A * np.exp(-(x - x0)**2 / Ws**2) * np.exp(- (t - t0)**2 / Wt**2)\n",
    "S0 = S(xx, 0)\n",
    "\n",
    "kappa = 0.1\n",
    "nt = 500\n",
    "\n",
    "t, rhot, pxt, et = nm.evol_hd_sts(xx, rho0, u0, Tg0, gamma=gamma, kappa=kappa, kB=kB, mH=mH, nt=nt,\n",
    "                   cfl_cut=0.48, ddx=lambda x,y: nm.deriv_cent(x, y),\n",
    "                   bnd_limits=[1,1], nu=0.1, S=lambda x,t: S0)\n",
    "\n",
    "u  = pxt / rhot # fluid velocity\n",
    "Tg = et*mH*(gamma - 1) / (rhot*kB) # gas temperature\n",
    "Pg = rhot*kB*Tg / mH # gas pressure\n",
    "\n",
    "source_func = np.zeros((len(xx), nt))\n",
    "for i in range(nt):\n",
    "    source_func[:,i] = S(xx, t[i])\n",
    "\n",
    "run = 'gaussian_source_pert_ws02wt01' # run\n",
    "title = f'Gaussian source function (kappa = {kappa}, Ws={Ws}, Wt={Wt})'\n",
    "\n",
    "nm.plot_hd_evolv(xx, t, nt=nt, rhot=rhot, u=u, Tg=Tg, Pg=Pg, et=et, S=source_func, M=10, run=run, fps=fps, title=title)"
   ]
  },
  {
   "cell_type": "code",
   "execution_count": null,
   "metadata": {},
   "outputs": [],
   "source": []
  }
 ],
 "metadata": {
  "kernelspec": {
   "display_name": "Python 3.10.6 64-bit",
   "language": "python",
   "name": "python3"
  },
  "language_info": {
   "codemirror_mode": {
    "name": "ipython",
    "version": 3
   },
   "file_extension": ".py",
   "mimetype": "text/x-python",
   "name": "python",
   "nbconvert_exporter": "python",
   "pygments_lexer": "ipython3",
   "version": "3.10.6"
  },
  "orig_nbformat": 4,
  "vscode": {
   "interpreter": {
    "hash": "e7370f93d1d0cde622a1f8e1c04877d8463912d04d973331ad4851f04de6915a"
   }
  }
 },
 "nbformat": 4,
 "nbformat_minor": 2
}
