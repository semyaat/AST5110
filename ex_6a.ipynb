{
 "cells": [
  {
   "cell_type": "markdown",
   "metadata": {},
   "source": [
    "# Operator splitting "
   ]
  },
  {
   "cell_type": "code",
   "execution_count": null,
   "metadata": {},
   "outputs": [],
   "source": [
    "# Importing relevant libraries \n",
    "%matplotlib inline\n",
    "import numpy as np\n",
    "import matplotlib.pyplot as plt \n",
    "from nm_lib import nm_lib as nm\n",
    "from matplotlib import animation\n",
    "from matplotlib.animation import FuncAnimation\n",
    "from IPython.display import HTML\n",
    "\n",
    "# plt.style.use('dark_background')\n",
    "plt.style.use('default')\n",
    "\n",
    "def u(x): \n",
    "    \"\"\" \n",
    "    Initial condition for t=t0 when a = const\n",
    "\n",
    "    Parameters\n",
    "    ----------\n",
    "    x : `array`\n",
    "        Spatial axis. \n",
    "    \n",
    "    Returns\n",
    "    -------\n",
    "    Equation 2\n",
    "    \"\"\"\n",
    "    return np.cos(6*np.pi*x / 5)**2 / np.cosh(5*x**2)\n",
    "\n",
    "x0 = -2.6\n",
    "xf = 2.6\n",
    "a = -0.7\n",
    "b = -0.3"
   ]
  },
  {
   "cell_type": "markdown",
   "metadata": {},
   "source": [
    "## 1- OS precision\n",
    "\n",
    "Solve the following Burgers' equation: \n",
    "\n",
    "$$\\frac{\\partial u}{\\partial t} = - a \\frac{\\partial u}{\\partial x} - b \\frac{\\partial u}{\\partial x}   \\tag{1}$$\n",
    "\n",
    "following exersize [2b](https://github.com/AST-Course/AST5110/blob/main/ex_2b.ipynb). where $x[x_0, x_f]$ with $x_0 = −2.6$, $x_f = 2.6$, $a=-0.7$ and $b=-0.3$, periodic boundary conditions and with initial condition:\n",
    "\n",
    "$$u(x,t=t_0) = \\cos^2 \\left(\\frac{6 \\pi x}{5} \\right) / \\cosh(5x^2)  \\tag{2}$$\n",
    "\n",
    "Solve the evolution for the following four different approaches: \n",
    "\n",
    "- 1 With additive OS.  \n",
    "\n",
    "- 2 With Lie-Trotter OS. \n",
    "\n",
    "- 3 With Strang OS.\n",
    "\n",
    "- 4 Without an operator splitting and single time-step method but add the to terms: \n",
    "\n",
    "$$\\frac{\\partial u}{\\partial t} = - (a+b) \\frac{\\partial u}{\\partial x}$$\n",
    "\n",
    "for $nump=256$ and 100 steps.\n",
    "\n",
    "_Suggestion_: use the Lax-method scheme for all cases with `deriv_cent`. Make sure the boundaries are properly selected.\n",
    "\n",
    "Fill in the function `osp_LL_Add`, `osp_LL_Lie`, and `osp_LL_Strang`.\n",
    "\n",
    "Start with $cfl\\_cut = 0.4$ and increase up to $0.9$.  \n",
    "\n",
    "Which OS schemes are stable? Which one is more diffusive? Why?"
   ]
  },
  {
   "cell_type": "code",
   "execution_count": null,
   "metadata": {},
   "outputs": [],
   "source": [
    "nump = 256\n",
    "nt = 100*2\n",
    "xx = np.arange(nump)/(nump-1.0) * (xf-x0) + x0\n",
    "\n",
    "t_lax, unnt_lax = nm.evolv_Lax_adv_burgers(xx, u(xx), nt, a+b,  cfl_cut=0.4, ddx=nm.deriv_cent, bnd_limits=[1,1])\n",
    "t_add, unnt_add = nm.ops_Lax_LL_Add(       xx, u(xx), nt, a, b, cfl_cut=0.4, ddx=nm.deriv_cent, bnd_limits=[1,1])\n",
    "t_lie, unnt_lie = nm.ops_Lax_LL_Lie(       xx, u(xx), nt, a, b, cfl_cut=0.4, ddx=nm.deriv_cent, bnd_limits=[1,1])\n",
    "t_LLS, unnt_LLS = nm.ops_Lax_LL_Strang(    xx, u(xx), nt, a, b, cfl_cut=0.4, ddx=nm.deriv_cent, bnd_limits=[1,1])\n",
    "\n",
    "# Find the common elements in the four arrays\n",
    "common1 = np.where(np.isclose(t_lax, t_add, atol=5e-0))[0]\n",
    "common2 = np.where(np.isclose(t_lie, t_LLS, atol=5e-0))[0]\n",
    "common_times = np.where(np.isclose(common1, common1, atol=5e-0))[0]\n",
    "t = t_lax[common_times]\n",
    "\n",
    "# Animation \n",
    "fig, axes = plt.subplots(nrows=1, ncols=1, figsize=(10, 5))\n",
    "N = 10\n",
    "\n",
    "def init(): \n",
    "    axes.plot(xx, unnt_lax[:,0])\n",
    "    axes.plot(xx, unnt_add[:,0])\n",
    "    axes.plot(xx, unnt_lie[:,0])\n",
    "    axes.plot(xx, unnt_LLS[:,0])\n",
    "\n",
    "def animate(i):\n",
    "    axes.clear()\n",
    "    # axes.plot(xx, unnt_lax[:,::N][:,common_times[i]], label='LL lax')\n",
    "    # axes.plot(xx, unnt_add[:,::N][:,common_times[i]], label='LL add')\n",
    "    # axes.plot(xx, unnt_lie[:,::N][:,common_times[i]], label='LL lie')\n",
    "    # axes.plot(xx, unnt_LLS[:,::N][:,common_times[i]], label='LL strang')\n",
    "\n",
    "    axes.plot(xx,unnt_add[:,i], label='add')\n",
    "    index_lie = np.argmin(np.abs(t_add[i]-t_lie))\n",
    "    axes.plot(xx,unnt_lie[:,index_lie], label='Lie')\n",
    "    index_strang = np.argmin(np.abs(t_add[i]-t_LLS))\n",
    "    axes.plot(xx,unnt_LLS[:,index_strang], label='LL_Strang')\n",
    "    index_ab = np.argmin(np.abs(t_add[i]-t_lax))\n",
    "    axes.plot(xx,unnt_lax[:,index_ab], label='Lax (a+b)')\n",
    "    axes.set_title('t≈%.2f,%.2f,%.2f,%.2f' %(t_lie[index_lie], t_add[i], t_LLS[index_strang], t_lax[index_ab]))\n",
    "\n",
    "    axes.legend()\n",
    "    axes.set_ylim((0, 1.01))\n",
    "    # axes.set_title('t=%.2f' %t[::N][i])\n",
    "    axes.grid(True)\n",
    "\n",
    "anim = FuncAnimation(fig, animate, interval=50, frames=len(t[::N]), init_func=init)\n",
    "plt.close()\n",
    "HTML(anim.to_jshtml())"
   ]
  },
  {
   "cell_type": "markdown",
   "metadata": {},
   "source": [
    "<span style=\"color:pink\">\n",
    "\n",
    "For $cfl\\_cut = 0.4$ we see that the additive OS blows up after a few timesteps. The other methods do now blow up ,with the Strang OS being somewhat more diffusive than the Lie-Trotter OS. \n",
    "\n",
    "The additive OS blows up faster when using $cfl\\_cut = 0.9$, but the Lie-Trotter OS looks like it is less diffusive in this case. Both of these methods are first order, which probably is what is causing this. \n",
    "\n",
    "The Lax method, without operator splitting, is less diffusive than the other methods in both cases, but is slower. \n",
    "</span>"
   ]
  },
  {
   "attachments": {},
   "cell_type": "markdown",
   "metadata": {},
   "source": [
    "<span style=\"color:green\">JMS</span>.\n",
    "\n",
    "<span style=\"color:Blue\">God except for the Lax</span>.\n",
    "\n",
    "<span style=\"color:red\">In fact the problem is that the timestep is not the same. In order to compare apples to apples you need to select the closet instance for the one of the OS respect to the others (similar to the problem you have in 4c).  </span>.\n"
   ]
  },
  {
   "cell_type": "markdown",
   "metadata": {},
   "source": [
    "## 2- When does it not work? \n",
    "\n",
    "Use OS-Strang from the previous exercise and try to apply a predictor-corrector explicit method. \n",
    "To facilitate this exercise, `nm_lib` already includes the predictor-corrector Hyman method, which is included Bifrost (`Hyman`). Fill in the function `osp_Lax_LH_Strang`. Use the same setup as the previous exercise but with $nump=512$, $500$ steps, and $cfl\\_cut=0.8$. \n",
    "\n",
    "What do you notice? \n",
    "\n",
    "__Optional__: Apply the Hyman predictor-corrector explicit method to the Burgers equation and check if the following is true: \n",
    "\n",
    "$$u^{n+1} = F\\, u^{n}\\Delta t \\approx G\\, u^{n}\\Delta t+H\\, u^{n}\\Delta t$$"
   ]
  },
  {
   "cell_type": "code",
   "execution_count": null,
   "metadata": {},
   "outputs": [],
   "source": [
    "nump = 512\n",
    "nt = 500\n",
    "xx = np.arange(nump)/(nump-1.0) * (xf-x0) + x0\n",
    "\n",
    "t_lax, unnt_lax = nm.evolv_Lax_adv_burgers(xx, u(xx), nt, a+b,  cfl_cut=0.8, ddx=nm.deriv_cent,bnd_limits=[1,1])\n",
    "t_LHS, unnt_LHS = nm.osp_Lax_LH_Strang(    xx, u(xx), nt, a, b, cfl_cut=0.8, ddx=nm.deriv_cent,bnd_limits=[1,1])\n",
    "t_LLS, unnt_LLS = nm.ops_Lax_LL_Strang(    xx, u(xx), nt, a, b, cfl_cut=0.8, ddx=nm.deriv_cent,bnd_limits=[1,1])\n",
    "\n",
    "# Find the common elements in the four arrays\n",
    "common1 = np.where(np.isclose(t_LHS, t_LLS, atol=5e1))[0]\n",
    "common_times = np.where(np.isclose(common1, t_lax, atol=5e1))[0]\n",
    "t = t_lax[common_times]\n",
    "\n",
    "# Animation \n",
    "fig, axes = plt.subplots(nrows=1, ncols=1, figsize=(10, 5))\n",
    "N = 10\n",
    "\n",
    "def init(): \n",
    "    # axes.plot(xx, unnt_lax[:,common_times[0]])\n",
    "    axes.plot(xx, unnt_LHS[:,0])\n",
    "    axes.plot(xx, unnt_LLS[:,0])\n",
    "\n",
    "def animate(i):\n",
    "    axes.clear()\n",
    "\n",
    "    axes.plot(xx, unnt_LHS[:,i], label='add')\n",
    "    index_LLS = np.argmin(np.abs(t_LHS[i]-t_LLS))\n",
    "    axes.plot(xx,unnt_LLS[:,index_LLS], label='LL_Strang')\n",
    "\n",
    "    axes.set_title('t≈%.2f,%.2f' %(t_LLS[index_LLS], t_LHS[i]))\n",
    "\n",
    "    # # axes.plot(xx, unnt_lax[:,::N][:,common_times[i]], label='LL lax')\n",
    "    # axes.plot(xx, unnt_LHS[:,::N][:,i], label='LL lie')\n",
    "    # index_LL = np.argmin(np.abs(t_LHS[i] - t_LLS))\n",
    "    # axes.plot(xx, unnt_LLS[:,::N][:,index_LL], label='LL strang')\n",
    "    axes.legend()\n",
    "    axes.set_ylim((0, 1.01))\n",
    "    # axes.set_title('t=%.2f, %.2f'%t_LLS[::N][index_LL], t_LHS[::N][i])\n",
    "    axes.grid(True)\n",
    "anim = FuncAnimation(fig, animate, interval=1, frames=len(t[::N]), init_func=init)\n",
    "plt.close()\n",
    "HTML(anim.to_jshtml())"
   ]
  },
  {
   "cell_type": "markdown",
   "metadata": {},
   "source": [
    "<span style=\"color:pink\">\n",
    "\n",
    "The LH Strang method and OS-Strang methods behave similarly, with LH Strang being a little more diffusive, and a bit slower. Compared to the Lax method, both are faster and more diffusive. \n",
    "\n",
    "</span>"
   ]
  },
  {
   "attachments": {},
   "cell_type": "markdown",
   "metadata": {},
   "source": [
    "<span style=\"color:green\">JMS</span>.\n",
    "\n",
    "<span style=\"color:red\">As mentioned above, Lax looks strange </span>.\n",
    "\n",
    "<span style=\"color:red\">In addition, Strang and LH Strang should be different. See my comments above</span>."
   ]
  }
 ],
 "metadata": {
  "kernelspec": {
   "display_name": "Python 3.10.6 64-bit",
   "language": "python",
   "name": "python3"
  },
  "language_info": {
   "codemirror_mode": {
    "name": "ipython",
    "version": 3
   },
   "file_extension": ".py",
   "mimetype": "text/x-python",
   "name": "python",
   "nbconvert_exporter": "python",
   "pygments_lexer": "ipython3",
   "version": "3.10.6"
  },
  "vscode": {
   "interpreter": {
    "hash": "e7370f93d1d0cde622a1f8e1c04877d8463912d04d973331ad4851f04de6915a"
   }
  }
 },
 "nbformat": 4,
 "nbformat_minor": 4
}
