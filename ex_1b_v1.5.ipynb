{
 "cells": [
  {
   "cell_type": "markdown",
   "metadata": {},
   "source": [
    "# Analytical and numerical calculation of the order of approximation of a derivative calculated through finite differences (optional)."
   ]
  },
  {
   "cell_type": "markdown",
   "metadata": {},
   "source": [
    "## 1 – The numerical test of the high-order formula"
   ]
  },
  {
   "cell_type": "markdown",
   "metadata": {},
   "source": [
    "Implement the finite difference formula given by the first term on the right of Eq (5) in the [wiki](https://github.com/AST-Course/AST5110/wiki/Discretization)  into the program you developed for Exercise 1a and test if you get an approximation to the first derivative with an error that converges to zero like $(\\Delta x)^4$."
   ]
  },
  {
   "cell_type": "markdown",
   "metadata": {},
   "source": [
    "Compare the 2nd-order and 4th-order error curves. Which error do you get in either case for 128 intervals? For 512 intervals? For 1024 intervals?"
   ]
  },
  {
   "cell_type": "markdown",
   "metadata": {},
   "source": [
    "## 2 - Precission\n",
    "\n",
    "Try for more than $10^6$ grid points. What do you see? What happens if you try for a lower or higher floating number? Numpy uses float 64 as default. Instead, use `np.float32` and `np.float128`. Explain the error slopes. "
   ]
  },
  {
   "cell_type": "code",
   "execution_count": null,
   "metadata": {},
   "outputs": [],
   "source": [
    "import numpy as np\n",
    "import matplotlib.pyplot as plt \n",
    "from nm_lib import nm_lib as nm\n",
    "\n",
    "def h(x): \n",
    "    # Solves h as a function of x \n",
    "    return np.cos(np.pi*(x-1) / 2) * np.exp(-((x-3) / 2.5)**2)\n",
    "\n",
    "def hp_calc(x): \n",
    "    # Analytical derivative\n",
    "    return np.exp(-0.16*(-3+x)**2)  *(1.5708*np.cos((np.pi*x)/2) - (-0.96 + 0.32*x) * np.sin((np.pi*x)/2))\n",
    "\n",
    "def calc_error(x): \n",
    "    hp_calc_small = hp_calc(x[:-1] + (x[1]-x[0])/2)\n",
    "    hp = nm.deriv_dnw(x, h(x))\n",
    "\n",
    "    error = np.max(np.abs(hp_calc_small - hp))\n",
    "    dxs = x[1] - x[0]\n",
    "\n",
    "    return error, dxs"
   ]
  },
  {
   "cell_type": "code",
   "execution_count": null,
   "metadata": {},
   "outputs": [],
   "source": [
    "# 32 \n",
    "nint =  [16, 32, 64, 128, 256, 512, 1024, 2048, 4096, 8192, 16384, 1e6, 3e6]\n",
    "error_list_32 = []\n",
    "x0=np.float32(-4.0)\n",
    "xf=np.float32(10.0)\n",
    "\n",
    "for n in nint: \n",
    "    nump = n + 1\n",
    "    xx = np.arange(nump)/(nump-1.0) * (xf-x0) + x0\n",
    "\n",
    "    error_list_32.append(np.float32(calc_error(xx)[0]))\n",
    "\n",
    "# 64 \n",
    "error_list_64 = []\n",
    "x0 = (-4.0)\n",
    "xf = (10.0)\n",
    "\n",
    "for n in nint: \n",
    "    nump = n + 1\n",
    "    xx = np.arange(nump)/(nump-1.0) * (xf-x0) + x0\n",
    "\n",
    "    error_list_64.append(calc_error(xx)[0])\n",
    "\n",
    "# 128 \n",
    "error_list_128 = []\n",
    "x0=np.float128(-4.0)\n",
    "xf=np.float128(10.0)\n",
    "\n",
    "for n in nint: \n",
    "    nump = n + 1\n",
    "    xx = np.arange(nump)/(nump-np.float128(1.0)) * (xf-x0) + x0\n",
    "\n",
    "    error_list_128.append(np.float128(calc_error(xx)[0]))"
   ]
  },
  {
   "cell_type": "code",
   "execution_count": null,
   "metadata": {},
   "outputs": [],
   "source": [
    "p_32  = np.poly1d(np.polyfit(np.log10(nint[:-3]), np.log10(error_list_32[:-3]), deg=1))\n",
    "p_64  = np.poly1d(np.polyfit(np.log10(nint[:-3]), np.log10(error_list_64[:-3]), deg=1))\n",
    "# p_128 = np.poly1d(np.polyfit(np.log10(nint[:-3]), np.log10(error_list_128[:-3]), deg=1))\n",
    "\n",
    "# print(f\"Error of quadratic dependence: {np.abs(np.sum(error_list_32)/len(error_list_32) - p_32.coef[0]):.1e}\")\n",
    "# print(f\"Error of quadratic dependence: {np.abs(np.sum(error_list_64)/len(error_list_64) - p_64.coef[0]):.1e}\")\n",
    "# print(f\"Error of quadratic dependence: {np.abs(np.sum(error_list_128)/len(error_list_128) - p_128.coef[0]):.1e}\")"
   ]
  },
  {
   "cell_type": "code",
   "execution_count": null,
   "metadata": {},
   "outputs": [],
   "source": [
    "fig, (ax1, ax2, ax3) = plt.subplots(1, 3, figsize=(15, 4))\n",
    "\n",
    "ax1.scatter(np.log10(nint), np.log10(np.float32(error_list_32)), marker='x')\n",
    "ax1.plot(np.log10(nint), p_32(np.log10(nint)), color='lightblue', linestyle='--')\n",
    "ax1.set_xlabel(\"Number of Intervals\"); ax1.set_ylabel(\"Maximum Error\")\n",
    "ax1.title.set_text(f'32')\n",
    "\n",
    "ax2.scatter(np.log10(nint), np.log10(np.float32(error_list_64)), marker='x')\n",
    "ax2.plot(np.log10(nint), p_64(np.log10(nint)), color='lightblue', linestyle='--')\n",
    "ax2.set_xlabel(\"Number of Intervals\")\n",
    "ax2.title.set_text(f'64 (Default)')\n",
    "\n",
    "ax3.scatter(np.log10(nint), np.log10(np.float32(error_list_128)), marker='x')\n",
    "ax3.set_xlabel(\"Number of Intervals\")\n",
    "ax3.title.set_text(f'128')"
   ]
  },
  {
   "cell_type": "markdown",
   "metadata": {},
   "source": [
    "There is some difference now, but I dont think this looks as expected yet. "
   ]
  },
  {
   "cell_type": "markdown",
   "metadata": {},
   "source": []
  },
  {
   "attachments": {},
   "cell_type": "markdown",
   "metadata": {},
   "source": [
    "<span style=\"color:green\">JMS</span>.\n",
    "\n",
    "<span style=\"color:red\"> You need to make sure that the input xx, hh etc are in float 32, 63 etc. This should produce a clear difference between 32 and 64 cases at least. </span>."
   ]
  },
  {
   "cell_type": "markdown",
   "metadata": {},
   "source": []
  }
 ],
 "metadata": {
  "kernelspec": {
   "display_name": "Python 3.10.6 64-bit",
   "language": "python",
   "name": "python3"
  },
  "language_info": {
   "codemirror_mode": {
    "name": "ipython",
    "version": 3
   },
   "file_extension": ".py",
   "mimetype": "text/x-python",
   "name": "python",
   "nbconvert_exporter": "python",
   "pygments_lexer": "ipython3",
   "version": "3.10.6"
  },
  "vscode": {
   "interpreter": {
    "hash": "916dbcbb3f70747c44a77c7bcd40155683ae19c65e1c03b4aa3499c5328201f1"
   }
  }
 },
 "nbformat": 4,
 "nbformat_minor": 4
}
